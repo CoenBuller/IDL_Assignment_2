{
 "cells": [
  {
   "cell_type": "markdown",
   "id": "6230e6c5",
   "metadata": {},
   "source": [
    "# Load in modules"
   ]
  },
  {
   "cell_type": "code",
   "execution_count": 74,
   "id": "8b22ec2c",
   "metadata": {},
   "outputs": [],
   "source": [
    "import keras \n",
    "import tensorflow as tf\n",
    "import numpy as np\n",
    "import random\n",
    "import matplotlib.pyplot as plt\n",
    "\n",
    "from keras.layers import Conv2D, MaxPool2D, AvgPool2D, Dropout, Dense, BatchNormalization, Identity, Input, GlobalAveragePooling2D, \\\n",
    "            RandomBrightness, RandomSharpness, RandomInvert, RandomRotation, RandomFlip\n",
    "from keras.activations import relu\n",
    "from keras.optimizers import AdamW\n",
    "from keras.callbacks import ReduceLROnPlateau, EarlyStopping, ModelCheckpoint\n"
   ]
  },
  {
   "cell_type": "markdown",
   "id": "8d995a53",
   "metadata": {},
   "source": [
    "# Create class for the model"
   ]
  },
  {
   "cell_type": "code",
   "execution_count": 91,
   "id": "d31e32a5",
   "metadata": {},
   "outputs": [],
   "source": [
    "class ImproveContrast(keras.layers.Layer):\n",
    "    def __init__(self, alpha=0.2):\n",
    "        super().__init__()\n",
    "        self.alpha = alpha\n",
    "    \n",
    "    def call(self, x):\n",
    "        x = (x-self.alpha)**2\n",
    "        x = tf.where(x < 0, 0.0, x)\n",
    "        return x"
   ]
  },
  {
   "cell_type": "code",
   "execution_count": 92,
   "id": "957dc50a",
   "metadata": {},
   "outputs": [],
   "source": [
    "#Code for Resnet block\n",
    "class ResBlock(keras.layers.Layer):\n",
    "    def __init__(self, num_input_layers, num_output_layers, kernel_size):\n",
    "        super().__init__()\n",
    "        #For first convolutional layer\n",
    "        self.conv1 = Conv2D(num_output_layers, kernel_size=kernel_size, padding='same', strides=1, \n",
    "                                  kernel_initializer='glorot_uniform')\n",
    "        self.bn1 = BatchNormalization()\n",
    "        self.relu = relu\n",
    "\n",
    "        #For second convolutional layer\n",
    "        self.conv2 = Conv2D(num_output_layers, kernel_size=kernel_size, padding='same', strides=1, \n",
    "                                  kernel_initializer='glorot_uniform')\n",
    "        self.bn2 = BatchNormalization()\n",
    "\n",
    "        #If the input and output channels are different, we need to adjust the input\n",
    "        if num_input_layers != num_output_layers:\n",
    "            self.shortcut = Conv2D(num_output_layers, kernel_size=1, strides=1, padding='valid')\n",
    "        else:\n",
    "            self.shortcut = Identity()\n",
    "    \n",
    "    def call(self, x):\n",
    "        #First convolutional layer\n",
    "        x = self.conv1(x)\n",
    "        x = self.bn1(x)\n",
    "        x = self.relu(x)\n",
    "        \n",
    "        #Second convolutional layer\n",
    "        x = self.conv2(x)\n",
    "        x = self.bn2(x)\n",
    "\n",
    "        #Add shortcut and apply non-linearity\n",
    "        x += self.shortcut(x)\n",
    "        x = self.relu(x)\n",
    "\n",
    "        return x"
   ]
  },
  {
   "cell_type": "code",
   "execution_count": 93,
   "id": "d7324988",
   "metadata": {},
   "outputs": [],
   "source": [
    "class CNN(keras.Model):\n",
    "    \"\"\"Convolutional Neural Network class using residual network blocks\"\"\"\n",
    "    def __init__(self, input_shape=[75, 75, 1], batch_size=64, mode='regression'):\n",
    "        if not isinstance(input_shape, list):\n",
    "            raise TypeError(\"input_shape type must be of type 'List'\")\n",
    "         \n",
    "        if (mode != 'regression') and (mode != 'classification'): #Make shure the mode is always correct\n",
    "            raise ValueError(\"The mode of the CNN can either be 'regression' or 'classification'\")\n",
    "        \n",
    "        if not isinstance(batch_size, int):\n",
    "            raise TypeError(\"The batch size must be of type 'int'\")\n",
    "\n",
    "        super().__init__()\n",
    "        #Just some parameters to keep just in case it is needed later\n",
    "        self.input_shape = tuple([batch_size] + input_shape)\n",
    "        self.batch_size = batch_size\n",
    "        self.input_shape = input_shape\n",
    "        self.mode = mode\n",
    "\n",
    "        self.conv_layers = keras.Sequential([\n",
    "                Input(shape=(self.input_shape)),\n",
    "                ImproveContrast(0.2),\n",
    "                ResBlock(num_input_layers=3, num_output_layers=16, kernel_size=3 ),\n",
    "                Conv2D(16, kernel_size=2, padding='valid', strides=2),\n",
    "\n",
    "                ResBlock(16, 32, 3),\n",
    "                MaxPool2D(pool_size=(2, 2), strides=2, padding='valid'),\n",
    "\n",
    "                ResBlock(32, 64, 3),\n",
    "                MaxPool2D(pool_size=(2, 2), strides=2, padding='valid'),\n",
    "\n",
    "                ResBlock(64, 128, 3),\n",
    "                MaxPool2D(pool_size=(2, 2), strides=2, padding='valid'),\n",
    "\n",
    "                ResBlock(128, 256, 3),\n",
    "                MaxPool2D(pool_size=(2, 2), strides=2, padding='valid'),\n",
    "\n",
    "                ResBlock(256, 512, 3),\n",
    "                GlobalAveragePooling2D(data_format='channels_last')\n",
    "        ])\n",
    "\n",
    "        ############################################################################################################\n",
    "        \"\"\"This is the block containing Feed Forward layers for the regression part of the assignment, \n",
    "        make a similar block for classification\"\"\"\n",
    "\n",
    "        self.regression_layers = keras.Sequential([\n",
    "            Input((512, )),\n",
    "            Dense(256, activation='relu', kernel_initializer='RandomNormal'),\n",
    "            Dropout(0.5),\n",
    "            Dense(128, activation='relu', kernel_initializer='RandomNormal'),\n",
    "            Dropout(0.4),\n",
    "            Dense(64, activation='relu', kernel_initializer='RandomNormal'),\n",
    "            Dropout(0.3),\n",
    "            Dense(1, activation='sigmoid', kernel_initializer='RandomNormal')\n",
    "        ])\n",
    "\n",
    "        ###########################################################################################################\n",
    "        \"\"\"\"You can use this to create a block that is used for classification.\"\"\"\n",
    "        # self.classification_layers = keras.Sequential([\n",
    "        #     Input((512, )),\n",
    "        #     ...\n",
    "        # ])\n",
    "\n",
    "\n",
    "    def call(self, x):\n",
    "        x = self.conv_layers(x)\n",
    "        if self.mode == 'regression':\n",
    "            x = 12 * self.regression_layers(x)\n",
    "        else:\n",
    "            x = self.classification_layers(x)\n",
    "        return x\n",
    "\n"
   ]
  },
  {
   "cell_type": "markdown",
   "id": "3cdfca21",
   "metadata": {},
   "source": [
    "# Loss function for regression\n",
    "\n",
    "our loss function for the regression is defined as $L[\\phi] = - \\displaystyle\\sum_{i=1} ^{I} ln(1 + cos(\\Theta(x_{i}, \\phi)))$, where $\\Theta(x_{i}, \\phi) = \\frac{\\pi}{6}(f(x_{i}, \\phi) - y_{i})$ with $f(x_{i}, \\phi) \\wedge y_{i} \\in [0, 12]$"
   ]
  },
  {
   "cell_type": "code",
   "execution_count": 147,
   "id": "0b6e66ab",
   "metadata": {},
   "outputs": [],
   "source": [
    "def Loss(y, pred):\n",
    "    x = tf.experimental.numpy.pi * (pred - y) / 6\n",
    "    l = tf.reduce_mean(tf.math.log(1 + tf.cos(x) + 1e-7))\n",
    "    return l"
   ]
  },
  {
   "cell_type": "code",
   "execution_count": 150,
   "id": "3f518f71",
   "metadata": {},
   "outputs": [],
   "source": [
    "def Loss(y, pred):\n",
    "    theta_pred = 2 * tf.experimental.numpy.pi * pred / 12\n",
    "    theta_true = 2 * tf.experimental.numpy.pi * y / 12\n",
    "    d = tf.atan2(tf.sin(theta_pred - theta_true), tf.cos(theta_pred - theta_true))\n",
    "    l = tf.reduce_mean(d**2)\n",
    "    return l"
   ]
  },
  {
   "cell_type": "markdown",
   "id": "34546fbf",
   "metadata": {},
   "source": [
    "We also need to define a function for the 'commen sense' accuracy"
   ]
  },
  {
   "cell_type": "code",
   "execution_count": null,
   "id": "a1b8ac54",
   "metadata": {},
   "outputs": [],
   "source": [
    "def CS_MSE(y, pred): \n",
    "    '''This is the commen sense MSE, taking into acount that the values lie on a cirkel'''\n",
    "    diff = (tf.math.mod(pred - y + 6, 12) - 6)\n",
    "    MSE = tf.reduce_mean(diff**2)\n",
    "    return MSE\n"
   ]
  },
  {
   "cell_type": "markdown",
   "id": "2771a914",
   "metadata": {},
   "source": [
    "# Load in data for regression\n",
    "\n",
    "For now we will use the images with a resolution of 75x75, as it is faster to train the network on that"
   ]
  },
  {
   "cell_type": "code",
   "execution_count": 135,
   "id": "c95039d7",
   "metadata": {},
   "outputs": [
    {
     "data": {
      "text/plain": [
       "<matplotlib.image.AxesImage at 0x72b743cd2180>"
      ]
     },
     "execution_count": 135,
     "metadata": {},
     "output_type": "execute_result"
    },
    {
     "data": {
      "image/png": "[encoded data removed]",
      "text/plain": [
       "<Figure size 640x480 with 1 Axes>"
      ]
     },
     "metadata": {},
     "output_type": "display_data"
    }
   ],
   "source": [
    "#Converted the image values to a range of [0, 1], better for network to work with\n",
    "X, y = np.load('data_75/images.npy')/255.0, np.load('data_75/labels.npy')\n",
    "# Augment y to be in R\n",
    "y = (y[:,0] +  y[:,1]*1/60).astype(np.float32)\n",
    "\n",
    "plt.title('Example plot of an image')\n",
    "plt.imshow(X[1200], cmap='grey')\n"
   ]
  },
  {
   "cell_type": "code",
   "execution_count": 136,
   "id": "b8df485b",
   "metadata": {},
   "outputs": [
    {
     "data": {
      "text/plain": [
       "Text(0.5, 1.0, 'Inverted grayscale image')"
      ]
     },
     "execution_count": 136,
     "metadata": {},
     "output_type": "execute_result"
    },
    {
     "data": {
      "image/png": "[encoded data removed]",
      "text/plain": [
       "<Figure size 640x480 with 1 Axes>"
      ]
     },
     "metadata": {},
     "output_type": "display_data"
    }
   ],
   "source": [
    "x = (X[1200]-0.2)**2\n",
    "x[x < 0] = 0\n",
    "x = np.expand_dims(x, axis=-1)\n",
    "plt.imshow(x, cmap='grey')\n",
    "plt.title('Inverted grayscale image')\n"
   ]
  },
  {
   "cell_type": "markdown",
   "id": "0436c86f",
   "metadata": {},
   "source": [
    "# Start training for regression"
   ]
  },
  {
   "cell_type": "markdown",
   "id": "ee38f428",
   "metadata": {},
   "source": [
    "### Split data into train/validation/test set"
   ]
  },
  {
   "cell_type": "code",
   "execution_count": 137,
   "id": "6154a3fe",
   "metadata": {},
   "outputs": [],
   "source": [
    "# Split data into 80/10/10% train/validation/test split\n",
    "data_train, data_temp = keras.utils.split_dataset((X, y), 0.8, shuffle=True, seed=2024)\n",
    "data_valid, data_test = keras.utils.split_dataset(data_temp, 0.5, shuffle=True, seed=2024)\n",
    "\n",
    "#Convert iterable back to images -> (samples, 75, 75), labels -> (sampels, 2)\n",
    "X_train, y_train = next(iter(data_train.batch(len(data_train))))\n",
    "X_valid, y_valid = next(iter(data_valid.batch(len(data_valid))))\n",
    "X_test, y_test = next(iter(data_test.batch(len(data_test))))"
   ]
  },
  {
   "cell_type": "markdown",
   "id": "f3fabf5f",
   "metadata": {},
   "source": [
    "### Now compile a CNN model and train it on the data"
   ]
  },
  {
   "cell_type": "code",
   "execution_count": null,
   "id": "5e2cb4da",
   "metadata": {},
   "outputs": [
    {
     "name": "stdout",
     "output_type": "stream",
     "text": [
      "Epoch 1/75\n",
      "\u001b[1m113/113\u001b[0m \u001b[32m━━━━━━━━━━━━━━━━━━━━\u001b[0m\u001b[37m\u001b[0m \u001b[1m28s\u001b[0m 214ms/step - loss: -12.0313 - val_loss: -11.6874 - learning_rate: 0.0010\n",
      "Epoch 2/75\n",
      "\u001b[1m113/113\u001b[0m \u001b[32m━━━━━━━━━━━━━━━━━━━━\u001b[0m\u001b[37m\u001b[0m \u001b[1m25s\u001b[0m 221ms/step - loss: -12.0642 - val_loss: -11.6874 - learning_rate: 0.0010\n",
      "Epoch 3/75\n",
      "\u001b[1m113/113\u001b[0m \u001b[32m━━━━━━━━━━━━━━━━━━━━\u001b[0m\u001b[37m\u001b[0m \u001b[1m25s\u001b[0m 221ms/step - loss: -12.0642 - val_loss: -11.6874 - learning_rate: 0.0010\n",
      "Epoch 4/75\n",
      "\u001b[1m113/113\u001b[0m \u001b[32m━━━━━━━━━━━━━━━━━━━━\u001b[0m\u001b[37m\u001b[0m \u001b[1m25s\u001b[0m 222ms/step - loss: -12.0642 - val_loss: -11.6874 - learning_rate: 0.0010\n",
      "Epoch 5/75\n",
      "\u001b[1m113/113\u001b[0m \u001b[32m━━━━━━━━━━━━━━━━━━━━\u001b[0m\u001b[37m\u001b[0m \u001b[1m25s\u001b[0m 221ms/step - loss: -12.0642 - val_loss: -11.6874 - learning_rate: 2.0000e-04\n",
      "Epoch 6/75\n",
      "\u001b[1m113/113\u001b[0m \u001b[32m━━━━━━━━━━━━━━━━━━━━\u001b[0m\u001b[37m\u001b[0m \u001b[1m25s\u001b[0m 221ms/step - loss: -12.0642 - val_loss: -11.6874 - learning_rate: 2.0000e-04\n",
      "Epoch 7/75\n",
      "\u001b[1m113/113\u001b[0m \u001b[32m━━━━━━━━━━━━━━━━━━━━\u001b[0m\u001b[37m\u001b[0m \u001b[1m25s\u001b[0m 221ms/step - loss: -12.0642 - val_loss: -11.6874 - learning_rate: 2.0000e-04\n",
      "Epoch 8/75\n",
      "\u001b[1m113/113\u001b[0m \u001b[32m━━━━━━━━━━━━━━━━━━━━\u001b[0m\u001b[37m\u001b[0m \u001b[1m25s\u001b[0m 221ms/step - loss: -12.0642 - val_loss: -11.6874 - learning_rate: 4.0000e-05\n",
      "Epoch 9/75\n",
      "\u001b[1m113/113\u001b[0m \u001b[32m━━━━━━━━━━━━━━━━━━━━\u001b[0m\u001b[37m\u001b[0m \u001b[1m25s\u001b[0m 221ms/step - loss: -12.0642 - val_loss: -11.6874 - learning_rate: 4.0000e-05\n",
      "Epoch 10/75\n",
      "\u001b[1m113/113\u001b[0m \u001b[32m━━━━━━━━━━━━━━━━━━━━\u001b[0m\u001b[37m\u001b[0m \u001b[1m25s\u001b[0m 221ms/step - loss: -12.0642 - val_loss: -11.6874 - learning_rate: 4.0000e-05\n",
      "Epoch 11/75\n",
      "\u001b[1m113/113\u001b[0m \u001b[32m━━━━━━━━━━━━━━━━━━━━\u001b[0m\u001b[37m\u001b[0m \u001b[1m25s\u001b[0m 221ms/step - loss: -12.0642 - val_loss: -11.6874 - learning_rate: 8.0000e-06\n"
     ]
    },
    {
     "data": {
      "text/plain": [
       "<keras.src.callbacks.history.History at 0x72b3b86ae690>"
      ]
     },
     "execution_count": 156,
     "metadata": {},
     "output_type": "execute_result"
    }
   ],
   "source": [
    "BATCH_SIZE = 128\n",
    "NUM_EPOCHS = 75\n",
    "\n",
    "preprocess = keras.Sequential([\n",
    "        RandomFlip('horizontal_and_vertical'),\n",
    "        RandomRotation(0.2),\n",
    "        RandomSharpness((0.5, 0.75), value_range=(0,1)),\n",
    "        RandomBrightness((-0.2, 0.2), value_range=(0,1)),\n",
    "        RandomInvert(0.1, value_range=(0,1))\n",
    "    ])\n",
    "\n",
    "def DataAugment(img, label):\n",
    "    if len(img.shape) == 2:\n",
    "        img = tf.expand_dims(img, axis=-1)\n",
    "    img = preprocess(img)\n",
    "    return img, label\n",
    "    \n",
    "train_ds = (tf.data.Dataset.from_tensor_slices((X_train, y_train))\n",
    "            .shuffle(1000)\n",
    "            .map(DataAugment, num_parallel_calls=tf.data.AUTOTUNE)\n",
    "            .batch(BATCH_SIZE)\n",
    "            .prefetch(tf.data.AUTOTUNE)\n",
    "            )\n",
    "\n",
    "valid_ds = (tf.data.Dataset.from_tensor_slices((X_valid, y_valid))\n",
    "            .batch(BATCH_SIZE)\n",
    "            .prefetch(tf.data.AUTOTUNE)\n",
    "            )\n",
    "\n",
    "\n",
    "model_filepath = './task_2/checkpoint.model.keras'\n",
    "callback = [ReduceLROnPlateau(monitor='val_loss', factor=0.2, patience=3), \n",
    "            EarlyStopping(patience=10), \n",
    "            ModelCheckpoint(filepath=model_filepath, monitor='val_loss', save_best_only=True, mode='min')]\n",
    "\n",
    "optim = AdamW(learning_rate=0.001)\n",
    "\n",
    "model = CNN(input_shape=[75,75,1], batch_size=BATCH_SIZE, mode='regression')\n",
    "model.compile(optimizer=optim, loss=)\n",
    "\n",
    "model.fit(train_ds, validation_data=valid_ds, epochs=NUM_EPOCHS, callbacks=callback)\n"
   ]
  }
 ],
 "metadata": {
  "kernelspec": {
   "display_name": "idl-assignment-2",
   "language": "python",
   "name": "python3"
  },
  "language_info": {
   "codemirror_mode": {
    "name": "ipython",
    "version": 3
   },
   "file_extension": ".py",
   "mimetype": "text/x-python",
   "name": "python",
   "nbconvert_exporter": "python",
   "pygments_lexer": "ipython3",
   "version": "3.12.11"
  }
 },
 "nbformat": 4,
 "nbformat_minor": 5
}
