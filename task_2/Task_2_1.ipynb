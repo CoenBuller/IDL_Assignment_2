{
 "cells": [
  {
   "cell_type": "code",
   "execution_count": null,
   "id": "8b22ec2c",
   "metadata": {},
   "outputs": [],
   "source": [
    "import keras \n",
    "import tensorflow as tf\n",
    "import numpy as np\n",
    "\n",
    "from keras.layers import Flatten, Conv2D, MaxPool2D, AvgPool2D, Dropout\n",
    "from keras.optimizers import AdamW\n",
    "from keras.initializers import RandomNormal"
   ]
  },
  {
   "cell_type": "code",
   "execution_count": null,
   "id": "d7324988",
   "metadata": {},
   "outputs": [],
   "source": [
    "class CNN():\n",
    "    \"\"\"Convolutional Neural Network class using Keras and Tensorflow for optimizing Hyperparameters\"\"\"\n",
    "    \n",
    "    def __init__(self, initialization=RandomNormal(), activation='relu', optimizer:str|object='adamW', \n",
    "                 regularization='l1', dropout=0.5, input_shape=(28, 28, 1)):\n",
    "        self.initialization = initialization\n",
    "        self.activation = activation\n",
    "        self.optimizer = optimizer\n",
    "        self.regularization = regularization\n",
    "        self.dropout = dropout\n",
    "        self.input_shape = input_shape\n",
    "\n",
    "        self.model = keras.models.Sequential([\n",
    "            keras.Input(shape=input_shape),\n",
    "            Conv2D(64, 5, activation=self.activation, padding='same'),\n",
    "            MaxPool2D(2),\n",
    "            self._make_layer(128, 3),\n",
    "            self._make_layer(128, 3),\n",
    "            MaxPool2D(2), \n",
    "            self._make_layer(256, 3),\n",
    "            self._make_layer(256, 3),\n",
    "            AvgPool2D(2),\n",
    "            Flatten(),\n",
    "            Dense(128, activation=self.activation),\n",
    "            Dropout(self.dropout),\n",
    "            Dense(64, activation=self.activation),\n",
    "            Dropout(self.dropout),\n",
    "            Dense(10, activation='softmax')\n",
    "        ])\n",
    "\n",
    "        self.model.compile(optimizer=cast(Any, self.optimizer), loss='sparse_categorical_crossentropy', metrics=['accuracy'])\n",
    "\n",
    "    def _make_layer(self, num_neurons, kernel_size):\n",
    "        layer = Conv2D(num_neurons, kernel_size=kernel_size, activation=self.activation, kernel_initializer=cast(Any, self.initialization), padding='same')\n",
    "        return layer\n",
    "\n",
    "    def fit_model(self, X, y, epochs=30, validation_data=None):\n",
    "        return self.model.fit(X, y, epochs=epochs, validation_data=validation_data, verbose=1)\n",
    "    \n",
    "    def _summary(self):\n",
    "        print(self.model.summary())"
   ]
  }
 ],
 "metadata": {
  "language_info": {
   "name": "python"
  }
 },
 "nbformat": 4,
 "nbformat_minor": 5
}
